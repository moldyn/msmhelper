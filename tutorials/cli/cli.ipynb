{
 "cells": [
  {
   "cell_type": "markdown",
   "id": "0f5adcaa-d13b-46d1-9a1f-870b5851cf51",
   "metadata": {},
   "source": [
    "# Command Line Interface\n",
    "\n",
    "Our Python package not only provides a powerful Markov state modeling framework for analyzing biomolecular dynamics simulations, but it also includes a command line interface for incorporating key tasks into your bash pipelines. With our CLI, users can easily integrate our package into their workflow, streamlining the analysis process and increasing efficiency.\n",
    "\n",
    "In addition, our package includes powerful tools for generating publication-ready figures, making it easy for users to create visually stunning and informative data visualizations for their research papers and presentations.\n",
    "\n",
    "To get an overview over all modules simply run the following command in the shell, or take a look at the [reference documentation](../../reference/cli)."
   ]
  },
  {
   "cell_type": "code",
   "execution_count": 1,
   "id": "b0ee088f-b673-4fd2-b026-5460f19e1671",
   "metadata": {},
   "outputs": [
    {
     "name": "stdout",
     "output_type": "stream",
     "text": [
      "Usage: python -m msmhelper [OPTIONS] COMMAND [ARGS]...\n",
      "\n",
      "  msmhelper v0.6.2\n",
      "\n",
      "  Unlock the power of protein dynamics time series with Markov state modeling,\n",
      "  by simplifying scientific analysis.\n",
      "\n",
      "  Copyright (c) 2019-2023, Daniel Nagel\n",
      "\n",
      "Options:\n",
      "  --help  Show this message and exit.\n",
      "\n",
      "Commands:\n",
      "  ck-test             Calculate and plot CK test.\n",
      "  dynamical-coring    Applying dynamical coring on state trajectory.\n",
      "  gaussian-filtering  Applying gaussian filter on time series.\n",
      "  implied-timescales  Calculate and plot the implied timescales.\n"
     ]
    }
   ],
   "source": [
    "%%bash\n",
    "python -m msmhelper"
   ]
  },
  {
   "cell_type": "markdown",
   "id": "8b77a18e-7314-4ca6-971e-1261e88c478d",
   "metadata": {},
   "source": [
    "Further, every submodule gives detailed help, simply run"
   ]
  },
  {
   "cell_type": "code",
   "execution_count": 2,
   "id": "1e4deb9a-2099-4bcd-a724-464ec718dffd",
   "metadata": {},
   "outputs": [
    {
     "name": "stdout",
     "output_type": "stream",
     "text": [
      "Usage: python -m msmhelper ck-test [OPTIONS]\n",
      "\n",
      "  Calculate and plot CK test.\n",
      "\n",
      "Options:\n",
      "  -f, --filename PATH          Path to state trajectory file (single column\n",
      "                               ascii file).  [required]\n",
      "  --microfilename PATH         Path to microstate trajectory file (single\n",
      "                               column ascii file) to use Hummer-Szabo\n",
      "                               projection.\n",
      "  -c, --concat-limits PATH     Path to concatination limit file given the\n",
      "                               length of all trajectories, e.g. \"3\\n3\\n5\"\n",
      "  --lagtimes INTEGER RANGE...  5 (!) Lag times given in frames to estimate\n",
      "                               Markov state model.  [x>=1; required]\n",
      "  --frames-per-unit FLOAT      Number of frames per unit.  [required]\n",
      "  --unit [fs|ps|ns|us|frames]  Unit of data.  [required]\n",
      "  --grid INTEGER RANGE...      Number of rows and cols.  [x>=1]\n",
      "  --max-time INTEGER RANGE     Largest time value to evaluate and plot the\n",
      "                               test.  [x>=1]\n",
      "  --help                       Show this message and exit.\n"
     ]
    }
   ],
   "source": [
    "%%bash\n",
    "python -m msmhelper ck-test"
   ]
  },
  {
   "cell_type": "markdown",
   "id": "23c2cf0d-e6f1-40b7-8082-da9e33d77ed9",
   "metadata": {},
   "source": [
    "A simple example of an Chapman-Kolmogorov test produced with a 4 state toy model."
   ]
  },
  {
   "cell_type": "markdown",
   "id": "187967c8-4b5d-4995-969e-00e66164f947",
   "metadata": {},
   "source": [
    "![cktest](../img/cktest.png)"
   ]
  }
 ],
 "metadata": {
  "kernelspec": {
   "display_name": "Python 3 (ipykernel)",
   "language": "python",
   "name": "python3"
  },
  "language_info": {
   "codemirror_mode": {
    "name": "ipython",
    "version": 3
   },
   "file_extension": ".py",
   "mimetype": "text/x-python",
   "name": "python",
   "nbconvert_exporter": "python",
   "pygments_lexer": "ipython3",
   "version": "3.10.8"
  }
 },
 "nbformat": 4,
 "nbformat_minor": 5
}
